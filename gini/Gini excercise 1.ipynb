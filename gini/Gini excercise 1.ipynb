{
 "cells": [
  {
   "attachments": {
    "image.png": {
     "image/png": "[encoded data removed]"
    }
   },
   "cell_type": "markdown",
   "id": "316e0f8b",
   "metadata": {},
   "source": [
    "# gini impurities excerise 1\n",
    "\n",
    "## formula of gini :- \n",
    "- ![image.png](attachment:image.png)\n"
   ]
  },
  {
   "cell_type": "markdown",
   "id": "6d210987",
   "metadata": {},
   "source": [
    "### f(i)=funtion of i\n",
    "\n",
    "### G=[f(i) for i in range(1,k)]\n"
   ]
  },
  {
   "cell_type": "code",
   "execution_count": 1,
   "id": "69ffafaf",
   "metadata": {},
   "outputs": [],
   "source": [
    "import numpy as np\n",
    "import pandas as pd"
   ]
  },
  {
   "cell_type": "code",
   "execution_count": 2,
   "id": "f4df9b30",
   "metadata": {},
   "outputs": [],
   "source": [
    "# Reading the csv file and putting it into 'df' object.\n",
    "df = pd.read_csv(r'F:\\har\\mldl\\decision tree\\heart_v2.csv')"
   ]
  },
  {
   "cell_type": "code",
   "execution_count": 3,
   "id": "373f5620",
   "metadata": {},
   "outputs": [
    {
     "data": {
      "text/html": [
       "<div>\n",
       "<style scoped>\n",
       "    .dataframe tbody tr th:only-of-type {\n",
       "        vertical-align: middle;\n",
       "    }\n",
       "\n",
       "    .dataframe tbody tr th {\n",
       "        vertical-align: top;\n",
       "    }\n",
       "\n",
       "    .dataframe thead th {\n",
       "        text-align: right;\n",
       "    }\n",
       "</style>\n",
       "<table border=\"1\" class=\"dataframe\">\n",
       "  <thead>\n",
       "    <tr style=\"text-align: right;\">\n",
       "      <th></th>\n",
       "      <th>age</th>\n",
       "      <th>sex</th>\n",
       "      <th>BP</th>\n",
       "      <th>cholestrol</th>\n",
       "      <th>heart disease</th>\n",
       "    </tr>\n",
       "  </thead>\n",
       "  <tbody>\n",
       "    <tr>\n",
       "      <th>0</th>\n",
       "      <td>70</td>\n",
       "      <td>1</td>\n",
       "      <td>130</td>\n",
       "      <td>322</td>\n",
       "      <td>1</td>\n",
       "    </tr>\n",
       "    <tr>\n",
       "      <th>1</th>\n",
       "      <td>67</td>\n",
       "      <td>0</td>\n",
       "      <td>115</td>\n",
       "      <td>564</td>\n",
       "      <td>0</td>\n",
       "    </tr>\n",
       "    <tr>\n",
       "      <th>2</th>\n",
       "      <td>57</td>\n",
       "      <td>1</td>\n",
       "      <td>124</td>\n",
       "      <td>261</td>\n",
       "      <td>1</td>\n",
       "    </tr>\n",
       "    <tr>\n",
       "      <th>3</th>\n",
       "      <td>64</td>\n",
       "      <td>1</td>\n",
       "      <td>128</td>\n",
       "      <td>263</td>\n",
       "      <td>0</td>\n",
       "    </tr>\n",
       "    <tr>\n",
       "      <th>4</th>\n",
       "      <td>74</td>\n",
       "      <td>0</td>\n",
       "      <td>120</td>\n",
       "      <td>269</td>\n",
       "      <td>0</td>\n",
       "    </tr>\n",
       "    <tr>\n",
       "      <th>...</th>\n",
       "      <td>...</td>\n",
       "      <td>...</td>\n",
       "      <td>...</td>\n",
       "      <td>...</td>\n",
       "      <td>...</td>\n",
       "    </tr>\n",
       "    <tr>\n",
       "      <th>265</th>\n",
       "      <td>52</td>\n",
       "      <td>1</td>\n",
       "      <td>172</td>\n",
       "      <td>199</td>\n",
       "      <td>0</td>\n",
       "    </tr>\n",
       "    <tr>\n",
       "      <th>266</th>\n",
       "      <td>44</td>\n",
       "      <td>1</td>\n",
       "      <td>120</td>\n",
       "      <td>263</td>\n",
       "      <td>0</td>\n",
       "    </tr>\n",
       "    <tr>\n",
       "      <th>267</th>\n",
       "      <td>56</td>\n",
       "      <td>0</td>\n",
       "      <td>140</td>\n",
       "      <td>294</td>\n",
       "      <td>0</td>\n",
       "    </tr>\n",
       "    <tr>\n",
       "      <th>268</th>\n",
       "      <td>57</td>\n",
       "      <td>1</td>\n",
       "      <td>140</td>\n",
       "      <td>192</td>\n",
       "      <td>0</td>\n",
       "    </tr>\n",
       "    <tr>\n",
       "      <th>269</th>\n",
       "      <td>67</td>\n",
       "      <td>1</td>\n",
       "      <td>160</td>\n",
       "      <td>286</td>\n",
       "      <td>1</td>\n",
       "    </tr>\n",
       "  </tbody>\n",
       "</table>\n",
       "<p>270 rows × 5 columns</p>\n",
       "</div>"
      ],
      "text/plain": [
       "     age  sex   BP  cholestrol  heart disease\n",
       "0     70    1  130         322              1\n",
       "1     67    0  115         564              0\n",
       "2     57    1  124         261              1\n",
       "3     64    1  128         263              0\n",
       "4     74    0  120         269              0\n",
       "..   ...  ...  ...         ...            ...\n",
       "265   52    1  172         199              0\n",
       "266   44    1  120         263              0\n",
       "267   56    0  140         294              0\n",
       "268   57    1  140         192              0\n",
       "269   67    1  160         286              1\n",
       "\n",
       "[270 rows x 5 columns]"
      ]
     },
     "execution_count": 3,
     "metadata": {},
     "output_type": "execute_result"
    }
   ],
   "source": [
    "df"
   ]
  },
  {
   "cell_type": "code",
   "execution_count": 4,
   "id": "1093ac1c",
   "metadata": {},
   "outputs": [],
   "source": [
    "# Putting feature variable to X\n",
    "X = df.drop('heart disease',axis=1)\n",
    "\n",
    "# Putting response variable to y\n",
    "y = df['heart disease']\n"
   ]
  },
  {
   "cell_type": "code",
   "execution_count": 5,
   "id": "1b16c877",
   "metadata": {},
   "outputs": [
    {
     "name": "stdout",
     "output_type": "stream",
     "text": [
      "<class 'pandas.core.frame.DataFrame'>\n",
      "RangeIndex: 270 entries, 0 to 269\n",
      "Data columns (total 4 columns):\n",
      " #   Column      Non-Null Count  Dtype\n",
      "---  ------      --------------  -----\n",
      " 0   age         270 non-null    int64\n",
      " 1   sex         270 non-null    int64\n",
      " 2   BP          270 non-null    int64\n",
      " 3   cholestrol  270 non-null    int64\n",
      "dtypes: int64(4)\n",
      "memory usage: 8.6 KB\n"
     ]
    }
   ],
   "source": [
    "X.info()"
   ]
  },
  {
   "cell_type": "code",
   "execution_count": 16,
   "id": "ceaf7a5b",
   "metadata": {},
   "outputs": [
    {
     "data": {
      "text/plain": [
       "(183, 87)"
      ]
     },
     "execution_count": 16,
     "metadata": {},
     "output_type": "execute_result"
    }
   ],
   "source": [
    "female=-df.sex.sum()+df.shape[0]\n",
    "male=df.sex.sum()\n",
    "male,female"
   ]
  },
  {
   "cell_type": "code",
   "execution_count": 18,
   "id": "14383805",
   "metadata": {},
   "outputs": [
    {
     "data": {
      "text/plain": [
       "(150, 120)"
      ]
     },
     "execution_count": 18,
     "metadata": {},
     "output_type": "execute_result"
    }
   ],
   "source": [
    "# calculating number of heart disesa and non heart disease patient overll dataset\n",
    "\n",
    "patient=-df['heart disease'].sum()+df.shape[0]\n",
    "no_patient=df['heart disease'].sum()\n",
    "patient,no_patient"
   ]
  },
  {
   "cell_type": "markdown",
   "id": "41129155",
   "metadata": {},
   "source": [
    "male and female m"
   ]
  },
  {
   "cell_type": "code",
   "execution_count": null,
   "id": "a4f26264",
   "metadata": {},
   "outputs": [],
   "source": [
    "#fisrt split based on sex and having disease and not having\n",
    "md=0\n",
    "mnd=0\n",
    "fd=0\n",
    "fnd=0\n",
    "h=eval(input('enter the column name'))\n",
    "for i in range(len(df)):\n",
    "    if h.values[i]==1 and df['heart disease'].values[i]==1:\n",
    "        md=md+1\n",
    "    elif h.values[i]==1 and df['heart disease'].values[i]==0:\n",
    "        \n",
    "        mnd=mnd+1\n",
    "    elif h.values[i]==0 and df['heart disease'].values[i]==1:\n",
    "        fd=fd+1\n",
    "            \n",
    "            \n",
    "    else:\n",
    "        fnd=fnd+1\n",
    "print(md,mnd,fd,fnd)"
   ]
  },
  {
   "cell_type": "markdown",
   "id": "88b8104f",
   "metadata": {},
   "source": [
    "Now the probabilities of the two classes within the male subset comes out to be:\n",
    "\n",
    " "
   ]
  },
  {
   "cell_type": "markdown",
   "id": "25985892",
   "metadata": {},
   "source": [
    "Note that (x, y) on any node means (# Label 0, # Label 1)]"
   ]
  },
  {
   "cell_type": "code",
   "execution_count": 22,
   "id": "1b1879f2",
   "metadata": {},
   "outputs": [
    {
     "data": {
      "text/plain": [
       "0    0.555556\n",
       "1    0.444444\n",
       "Name: heart disease, dtype: float64"
      ]
     },
     "execution_count": 22,
     "metadata": {},
     "output_type": "execute_result"
    }
   ],
   "source": [
    "df['heart disease'].value_counts(normalize=True)"
   ]
  },
  {
   "cell_type": "code",
   "execution_count": null,
   "id": "aa52237b",
   "metadata": {},
   "outputs": [],
   "source": [
    "#po\n",
    "def d(x,y):\n",
    "    return x/(x+y)\n",
    "\n",
    "\n",
    "\n",
    "\n",
    "pm0=d(md,mnd)\n",
    "pmd1=d(mnd,md)\n",
    "\n",
    "pfo=d(fd,fnd)\n",
    "pfd1=d(fnd,fd)\n",
    "\n",
    "p0=d(m,f)\n",
    "p1=d(f,m)\n",
    "print('pm0',pm0,'pmd1',pmd1,'pfo',pfo,'pfd1',pfd1,'p0',p0,'p1',p1)"
   ]
  },
  {
   "cell_type": "code",
   "execution_count": null,
   "id": "d2cb3bd1",
   "metadata": {},
   "outputs": [],
   "source": [
    "inital_splitD=d(disease,no_disease)\n",
    "inital_splitNO_d=d(no_disease,disease)\n",
    "print(inital_splitD,inital_splitNO_d)\n",
    "\n",
    "#try to follow modular coding.\n"
   ]
  },
  {
   "cell_type": "markdown",
   "id": "7b42fdfe",
   "metadata": {},
   "source": [
    "Now using the same formula, Gini impurity for males becomes:"
   ]
  },
  {
   "cell_type": "code",
   "execution_count": null,
   "id": "e5392468",
   "metadata": {},
   "outputs": [],
   "source": [
    "def ginimp(h,k):\n",
    "    return round(h*(1.0-h)+k*(1.0-k),2)\n",
    "\n",
    "ginimale=ginimp(pm0,pmd1) \n",
    "ginimale=ginimp(pfo,pfd1)\n",
    "\n",
    "ginisex=ginimp(p0,p1)\n",
    "\n",
    "giniinistalsplit=ginimp(inital_splitD,inital_splitNO_d)\n",
    "print('ginimale',ginimale,'ginifemale',ginifemale,'ginisex',ginisex,giniinistalsplit,'giniinistalsplit')"
   ]
  },
  {
   "cell_type": "markdown",
   "id": "07fb3409",
   "metadata": {},
   "source": [
    "Now how do you get the overall impurity for the attribute 'sex' after the split? You can aggregate the Gini impurity of these two nodes by taking a weighted average of the impurities of the male and female nodes. So, you have -"
   ]
  },
  {
   "cell_type": "code",
   "execution_count": null,
   "id": "3ead9cc1",
   "metadata": {},
   "outputs": [],
   "source": []
  },
  {
   "cell_type": "markdown",
   "id": "54e4898a",
   "metadata": {},
   "source": [
    "This gives the Gini impurity after the split based on gender as:"
   ]
  },
  {
   "cell_type": "code",
   "execution_count": null,
   "id": "92f62105",
   "metadata": {},
   "outputs": [],
   "source": []
  },
  {
   "cell_type": "code",
   "execution_count": null,
   "id": "d2ddd4ef",
   "metadata": {},
   "outputs": [],
   "source": [
    "def gini_split(a,b,c,d):\n",
    "    return (a*b)+(c*d)\n",
    "\n",
    "gini_split(p0,ginimale,p1,ginimale)"
   ]
  },
  {
   "cell_type": "code",
   "execution_count": null,
   "id": "e50254cb",
   "metadata": {},
   "outputs": [],
   "source": [
    "giniinistalsplit"
   ]
  },
  {
   "cell_type": "code",
   "execution_count": null,
   "id": "07957efc",
   "metadata": {},
   "outputs": [],
   "source": [
    "Thus, the split based on gender gives the following insights:\n",
    "\n",
    "Gini impurity before split = 0.49\n",
    "\n",
    "Gini impurity after split = 0.5\n",
    "\n",
    "Reduction in Gini impurity = 0.49 - 0.5 = -0.01"
   ]
  },
  {
   "cell_type": "code",
   "execution_count": null,
   "id": "65617a7e",
   "metadata": {},
   "outputs": [],
   "source": [
    "## can we calculate gini in continous variable"
   ]
  },
  {
   "cell_type": "code",
   "execution_count": 24,
   "id": "e44bba8c",
   "metadata": {},
   "outputs": [
    {
     "data": {
      "text/html": [
       "<div>\n",
       "<style scoped>\n",
       "    .dataframe tbody tr th:only-of-type {\n",
       "        vertical-align: middle;\n",
       "    }\n",
       "\n",
       "    .dataframe tbody tr th {\n",
       "        vertical-align: top;\n",
       "    }\n",
       "\n",
       "    .dataframe thead tr th {\n",
       "        text-align: left;\n",
       "    }\n",
       "\n",
       "    .dataframe thead tr:last-of-type th {\n",
       "        text-align: right;\n",
       "    }\n",
       "</style>\n",
       "<table border=\"1\" class=\"dataframe\">\n",
       "  <thead>\n",
       "    <tr>\n",
       "      <th></th>\n",
       "      <th>heart disease</th>\n",
       "    </tr>\n",
       "    <tr>\n",
       "      <th></th>\n",
       "      <th>sum</th>\n",
       "    </tr>\n",
       "    <tr>\n",
       "      <th>sex</th>\n",
       "      <th></th>\n",
       "    </tr>\n",
       "  </thead>\n",
       "  <tbody>\n",
       "    <tr>\n",
       "      <th>0</th>\n",
       "      <td>20</td>\n",
       "    </tr>\n",
       "    <tr>\n",
       "      <th>1</th>\n",
       "      <td>100</td>\n",
       "    </tr>\n",
       "  </tbody>\n",
       "</table>\n",
       "</div>"
      ],
      "text/plain": [
       "    heart disease\n",
       "              sum\n",
       "sex              \n",
       "0              20\n",
       "1             100"
      ]
     },
     "execution_count": 24,
     "metadata": {},
     "output_type": "execute_result"
    }
   ],
   "source": [
    "df.groupby('sex').agg({'heart disease':['sum']})"
   ]
  },
  {
   "cell_type": "code",
   "execution_count": null,
   "id": "768da346",
   "metadata": {},
   "outputs": [],
   "source": []
  }
 ],
 "metadata": {
  "kernelspec": {
   "display_name": "Python 3 (ipykernel)",
   "language": "python",
   "name": "python3"
  },
  "language_info": {
   "codemirror_mode": {
    "name": "ipython",
    "version": 3
   },
   "file_extension": ".py",
   "mimetype": "text/x-python",
   "name": "python",
   "nbconvert_exporter": "python",
   "pygments_lexer": "ipython3",
   "version": "3.9.7"
  }
 },
 "nbformat": 4,
 "nbformat_minor": 5
}
